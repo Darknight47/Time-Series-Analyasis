{
 "cells": [
  {
   "cell_type": "markdown",
   "metadata": {},
   "source": [
    "## Main Task\n",
    "Get the stock price data between any interval using Python!\n",
    "\n",
    "### Solution\n",
    "We want to get the latest dataset everytime we are running the code! We need to use **yfinance API**!  \n",
    "It is an API provided by Yahoo Finance to collect the latest stock price data!  "
   ]
  },
  {
   "cell_type": "markdown",
   "metadata": {},
   "source": []
  }
 ],
 "metadata": {
  "language_info": {
   "name": "python"
  }
 },
 "nbformat": 4,
 "nbformat_minor": 2
}
