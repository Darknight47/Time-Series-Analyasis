{
 "cells": [
  {
   "cell_type": "markdown",
   "metadata": {},
   "source": [
    "## Introduction to ARIMA\n",
    "#### What is ARIMA?\n",
    "ARIMA stands for AutoRegressive Integrated Moving Average. It is a class of statistical models designed for analyzing and forecasting time series data.  \n",
    "ARIMA models are built upon three key components:\n",
    "\n",
    "1. **AutoRegressive (AR)**: This refers to the model's ability to predict future values based on past values. It uses a linear combination of lagged observations.\n",
    "2. **Integrated (I)**: This refers to the differencing of raw observations to make the time series stationary (i.e., the mean, variance, and autocorrelation structure of the series do not change over time).\n",
    "3. **Moving Average (MA)**: This involves modeling the error of the forecast as a linear combination of error terms from past time steps.\n",
    "\n",
    "These components are combined into a single model represented as ARIMA **(p,d,q)**, where:\n",
    "\n",
    "1. $p$: The number of lag observations included in the AR model (autoregressive terms).\n",
    "2. $d$: The degree of differencing required to make the series stationary.\n",
    "3. $q$: The size of the moving average window (moving average terms).\n",
    "\n",
    "#### What Does ARIMA Solve?\n",
    "ARIMA is designed to solve forecasting problems for time series data. It provides a method to predict future values based on patterns and relationships within the historical data.\n",
    "\n",
    "##### Typical problems ARIMA addresses include:\n",
    "1. Forecasting future sales or demand.\n",
    "2. Predicting stock prices or economic indicators.\n",
    "3. Anticipating seasonal trends in temperature, rainfall, or traffic.\n",
    "\n",
    "##### When Should ARIMA Be Used?\n",
    "1. **The data is a time series**: ARIMA is specifically for data points recorded in sequential time order.\n",
    "2. **There is a need for accurate forecasts**: It’s particularly effective for series that are autocorrelated (past values influence future values).\n",
    "3. **The series is stationary or can be made stationary**: ARIMA assumes the series has a constant mean and variance over time. Non-stationary series can often be transformed using differencing.\n",
    "4. **There are no clear seasonal effects**: For data with strong seasonal patterns, the Seasonal ARIMA (SARIMA) extension is often better.\n"
   ]
  },
  {
   "cell_type": "markdown",
   "metadata": {},
   "source": [
    "#### What is a Time Series?\n",
    "A time series is a sequence of data points measured at successive points in time, typically at regular intervals. Examples include:\n",
    "\n",
    "1. Daily temperature measurements.\n",
    "2. Monthly sales revenue.\n",
    "3. Hourly website traffic.\n",
    "\n",
    "Time series data has 4 key components:\n",
    "\n",
    "1. **Trend**: The long-term direction of the data (e.g., increasing, decreasing, or constant over time).\n",
    "2. **Seasonality**: Recurring patterns or cycles over a fixed period (e.g., sales increasing every December).\n",
    "3. **Noise**: Random variations in the data.\n",
    "4. **Cyclic patterns**: Fluctuations that are not tied to a fixed calendar period.\n",
    "\n",
    "##### What is Stationarity?\n",
    "A stationary time series has statistical properties that remain **constant** over time. Specifically:\n",
    "\n",
    "1. The mean does not change over time.\n",
    "2. The variance remains constant.\n",
    "3. The autocorrelation structure does not change.\n",
    "##### Why is Stationarity Important?\n",
    "ARIMA models work under the assumption that the input time series is stationary. If your data isn’t stationary, ARIMA will struggle to provide accurate forecasts.\n",
    "\n",
    "##### How to Test for Stationarity\n",
    "There are two common ways to check if a time series is stationary:\n",
    "\n",
    "1. **Visual Inspection**: Plot the time series. If you observe trends or changing variances, the series is likely not stationary.\n",
    "2. **Statistical Tests**: Augmented Dickey-Fuller (ADF) test: A hypothesis test where the null hypothesis is that the series is not stationary.\n",
    "\n",
    "##### Making a Time Series Stationary\n",
    "If the data is not stationary, there are techniques to make it stationary:\n",
    "1. **Differencing**: \n",
    "    1. Subtract the previous observation from the current observation.\n",
    "    2. This helps remove trends and makes the data more stable.\n",
    "\n",
    "2. **Log Transformation**: \n",
    "    1. Applying a logarithm can stabilize the variance.\n",
    "\n",
    "3. **Detrending**:\n",
    "    1. Remove the trend component explicitly (e.g., by subtracting a fitted trend line).\n",
    "\n",
    "4. **Seasonal Differencing**:\n",
    "    1. Subtract the value from the same season in the previous cycle.\n"
   ]
  },
  {
   "cell_type": "markdown",
   "metadata": {},
   "source": []
  }
 ],
 "metadata": {
  "language_info": {
   "name": "python"
  }
 },
 "nbformat": 4,
 "nbformat_minor": 2
}
