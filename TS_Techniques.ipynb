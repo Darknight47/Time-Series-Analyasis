{
 "cells": [
  {
   "cell_type": "markdown",
   "metadata": {},
   "source": [
    "## Time Series Techniques We Should Know"
   ]
  },
  {
   "cell_type": "markdown",
   "metadata": {},
   "source": [
    "### What is Time Series?\n",
    "\n",
    "A **Time Series** is a sequence of data points collected or recorded at regular intervals over time. The data is typically sequential and chronologically ordered.  \n",
    "Example:  \n",
    "\n",
    "1. Daily temperature readings.\n",
    "2. Monthly sales of a product.\n",
    "3. Stock market prices captured hourly or daily.\n",
    "\n",
    "Time Series data is unique because its values are influenced by the **order** in which they occur, making **time** a critical variable in analysis.\n",
    "\n",
    "### What does Time Series Solve?\n",
    "Time Series addresses problems where understanding or predicting patterns over time is essential. It can be used to:\n",
    "\n",
    "1. **Understand historical patterns**:\n",
    "    1. Detect trends, seasonality, and cyclical behaviors in the data.\n",
    "    2. **Example:** Analyzing a store's sales over serveral years to identify peak seasons.\n",
    "\n",
    "2. **Forecast the Future**:\n",
    "    1. Generate predictions based on past trends and patterns.\n",
    "    2. **Example:** Forecasting demand for electricity based on historical usage.\n",
    "\n",
    "3. **Detect Anomalies**:\n",
    "    1. Identify unusual or unexpected events in the sequence.\n",
    "    2. **Example:** Spotting fraudulent activity in transaction data.\n",
    "\n",
    "4. **Understand Dependencies Over Time**:\n",
    "    1. Explore how past values influence future values.\n",
    "    2. **Example:** Studying how today's stock prices relate to yesterday's.\n",
    "\n",
    "### Where is Time Series Analysis Used?\n",
    "1. **Finance**: Predicting stock prices, interest rates, and currency values.\n",
    "2. **Retail**: Forecasting demand for inventory management and supply chain optimization.\n",
    "3. **Healthcare**: Monitoring patient vitals or predicting disease trends.\n",
    "4. **Weather and Climate**: Forecasting temperatures, rainfall, or global climate patterns.\n",
    "5. **Manufacturing**: Monitoring equipment for predictive maintenance and anomaly detection.\n",
    "6. **Economics**: Modelling GDP growth, unemployment rates, or inflation over time.\n",
    "7. **Energy**: Forecasting energy consumption or production.\n",
    "\n",
    "### Why should Time Series be used?\n",
    "1. **Extracting Insights**\n",
    "    1. Understand how and why data changes over time.\n",
    "    2. **Example:** A retailer can learn how promotions influence weekly sales trends.\n",
    "\n",
    "2. **Data-Driven Decisions**\n",
    "    1. Enable informed planning based on forecasted trends.\n",
    "    2. **Example:** Budgeting based on projected revenue trends.\n",
    "\n",
    "3. **Mitigating Risks**\n",
    "    1. Anticipate issues like supply shortages or system failures.\n",
    "    2. **Example:** Predicting a machine breakdown using sensor data trends.\n",
    "\n",
    "4. **Improving Efficiency**\n",
    "    1. Optimize operations by predicting demands or resource needs.\n",
    "    2. **Example:** Adjusting staffing levels based on forecasted customer footfall."
   ]
  },
  {
   "cell_type": "code",
   "execution_count": 1,
   "metadata": {},
   "outputs": [],
   "source": [
    "import pandas as pd"
   ]
  },
  {
   "cell_type": "code",
   "execution_count": 3,
   "metadata": {},
   "outputs": [],
   "source": [
    "dataset = pd.read_csv(\"Dataset/Netflix-Subscriptions.csv\")"
   ]
  },
  {
   "cell_type": "code",
   "execution_count": 4,
   "metadata": {},
   "outputs": [
    {
     "data": {
      "text/html": [
       "<div>\n",
       "<style scoped>\n",
       "    .dataframe tbody tr th:only-of-type {\n",
       "        vertical-align: middle;\n",
       "    }\n",
       "\n",
       "    .dataframe tbody tr th {\n",
       "        vertical-align: top;\n",
       "    }\n",
       "\n",
       "    .dataframe thead th {\n",
       "        text-align: right;\n",
       "    }\n",
       "</style>\n",
       "<table border=\"1\" class=\"dataframe\">\n",
       "  <thead>\n",
       "    <tr style=\"text-align: right;\">\n",
       "      <th></th>\n",
       "      <th>Time Period</th>\n",
       "      <th>Subscribers</th>\n",
       "    </tr>\n",
       "  </thead>\n",
       "  <tbody>\n",
       "    <tr>\n",
       "      <th>0</th>\n",
       "      <td>01/04/2013</td>\n",
       "      <td>34240000</td>\n",
       "    </tr>\n",
       "    <tr>\n",
       "      <th>1</th>\n",
       "      <td>01/07/2013</td>\n",
       "      <td>35640000</td>\n",
       "    </tr>\n",
       "    <tr>\n",
       "      <th>2</th>\n",
       "      <td>01/10/2013</td>\n",
       "      <td>38010000</td>\n",
       "    </tr>\n",
       "    <tr>\n",
       "      <th>3</th>\n",
       "      <td>01/01/2014</td>\n",
       "      <td>41430000</td>\n",
       "    </tr>\n",
       "    <tr>\n",
       "      <th>4</th>\n",
       "      <td>01/04/2014</td>\n",
       "      <td>46130000</td>\n",
       "    </tr>\n",
       "  </tbody>\n",
       "</table>\n",
       "</div>"
      ],
      "text/plain": [
       "  Time Period  Subscribers\n",
       "0  01/04/2013     34240000\n",
       "1  01/07/2013     35640000\n",
       "2  01/10/2013     38010000\n",
       "3  01/01/2014     41430000\n",
       "4  01/04/2014     46130000"
      ]
     },
     "execution_count": 4,
     "metadata": {},
     "output_type": "execute_result"
    }
   ],
   "source": [
    "dataset.head()"
   ]
  },
  {
   "cell_type": "code",
   "execution_count": 5,
   "metadata": {},
   "outputs": [],
   "source": [
    "# Converting 'Time Period' to datetime\n",
    "dataset['Time Period'] = pd.to_datetime(dataset['Time Period'])"
   ]
  },
  {
   "cell_type": "code",
   "execution_count": 6,
   "metadata": {},
   "outputs": [],
   "source": [
    "# Set the 'Time Period' as the index\n",
    "dataset.set_index('Time Period', inplace=True)"
   ]
  },
  {
   "cell_type": "code",
   "execution_count": 7,
   "metadata": {},
   "outputs": [
    {
     "data": {
      "text/html": [
       "<div>\n",
       "<style scoped>\n",
       "    .dataframe tbody tr th:only-of-type {\n",
       "        vertical-align: middle;\n",
       "    }\n",
       "\n",
       "    .dataframe tbody tr th {\n",
       "        vertical-align: top;\n",
       "    }\n",
       "\n",
       "    .dataframe thead th {\n",
       "        text-align: right;\n",
       "    }\n",
       "</style>\n",
       "<table border=\"1\" class=\"dataframe\">\n",
       "  <thead>\n",
       "    <tr style=\"text-align: right;\">\n",
       "      <th></th>\n",
       "      <th>Subscribers</th>\n",
       "    </tr>\n",
       "    <tr>\n",
       "      <th>Time Period</th>\n",
       "      <th></th>\n",
       "    </tr>\n",
       "  </thead>\n",
       "  <tbody>\n",
       "    <tr>\n",
       "      <th>2013-01-04</th>\n",
       "      <td>34240000</td>\n",
       "    </tr>\n",
       "    <tr>\n",
       "      <th>2013-01-07</th>\n",
       "      <td>35640000</td>\n",
       "    </tr>\n",
       "    <tr>\n",
       "      <th>2013-01-10</th>\n",
       "      <td>38010000</td>\n",
       "    </tr>\n",
       "    <tr>\n",
       "      <th>2014-01-01</th>\n",
       "      <td>41430000</td>\n",
       "    </tr>\n",
       "    <tr>\n",
       "      <th>2014-01-04</th>\n",
       "      <td>46130000</td>\n",
       "    </tr>\n",
       "  </tbody>\n",
       "</table>\n",
       "</div>"
      ],
      "text/plain": [
       "             Subscribers\n",
       "Time Period             \n",
       "2013-01-04      34240000\n",
       "2013-01-07      35640000\n",
       "2013-01-10      38010000\n",
       "2014-01-01      41430000\n",
       "2014-01-04      46130000"
      ]
     },
     "execution_count": 7,
     "metadata": {},
     "output_type": "execute_result"
    }
   ],
   "source": [
    "dataset.head()"
   ]
  }
 ],
 "metadata": {
  "kernelspec": {
   "display_name": "Python 3",
   "language": "python",
   "name": "python3"
  },
  "language_info": {
   "codemirror_mode": {
    "name": "ipython",
    "version": 3
   },
   "file_extension": ".py",
   "mimetype": "text/x-python",
   "name": "python",
   "nbconvert_exporter": "python",
   "pygments_lexer": "ipython3",
   "version": "3.12.2"
  }
 },
 "nbformat": 4,
 "nbformat_minor": 2
}
