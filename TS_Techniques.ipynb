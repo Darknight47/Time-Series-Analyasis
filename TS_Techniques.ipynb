{
 "cells": [
  {
   "cell_type": "markdown",
   "metadata": {},
   "source": [
    "## Time Series Techniques We Should Know"
   ]
  },
  {
   "cell_type": "markdown",
   "metadata": {},
   "source": [
    "### What is Time Series?\n",
    "\n",
    "A **Time Series** is a sequence of data points collected or recorded at regular intervals over time. The data is typically sequential and chronologically ordered.  \n",
    "Example:  \n",
    "\n",
    "1. Daily temperature readings.\n",
    "2. Monthly sales of a product.\n",
    "3. Stock market prices captured hourly or daily.\n",
    "\n",
    "Time Series data is unique because its values are influenced by the **order** in which they occur, making **time** a critical variable in analysis.\n",
    "\n",
    "### What does Time Series Solve?\n",
    "Time Series addresses problems where understanding or predicting patterns over time is essential. It can be used to:\n",
    "\n",
    "1. **Understand historical patterns**:\n",
    "    1. Detect trends, seasonality, and cyclical behaviors in the data.\n",
    "    2. **Example:** Analyzing a store's sales over serveral years to identify peak seasons.\n",
    "\n",
    "2. **Forecast the Future**:\n",
    "    1. Generate predictions based on past trends and patterns.\n",
    "    2. **Example:** Forecasting demand for electricity based on historical usage.\n",
    "\n",
    "3. **Detect Anomalies**:\n",
    "    1. Identify unusual or unexpected events in the sequence.\n",
    "    2. **Example:** Spotting fraudulent activity in transaction data.\n",
    "\n",
    "4. **Understand Dependencies Over Time**:\n",
    "    1. Explore how past values influence future values.\n",
    "    2. **Example:** Studying how today's stock prices relate to yesterday's.\n",
    "\n",
    "### Where is Time Series Analysis Used?\n",
    "1. **Finance**: Predicting stock prices, interest rates, and currency values.\n",
    "2. **Retail**: Forecasting demand for inventory management and supply chain optimization.\n",
    "3. **Healthcare**: Monitoring patient vitals or predicting disease trends.\n",
    "4. **Weather and Climate**: Forecasting temperatures, rainfall, or global climate patterns.\n",
    "5. **Manufacturing**: Monitoring equipment for predictive maintenance and anomaly detection.\n",
    "6. **Economics**: Modelling GDP growth, unemployment rates, or inflation over time.\n",
    "7. **Energy**: Forecasting energy consumption or production.\n",
    "\n",
    "### Why should Time Series be used?\n",
    "1. **Extracting Insights**\n",
    "    1. Understand how and why data changes over time.\n",
    "    2. **Example:** A retailer can learn how promotions influence weekly sales trends.\n",
    "\n",
    "2. **Data-Driven Decisions**\n",
    "    1. Enable informed planning based on forecasted trends.\n",
    "    2. **Example:** Budgeting based on projected revenue trends.\n",
    "\n",
    "3. **Mitigating Risks**\n",
    "    1. Anticipate issues like supply shortages or system failures.\n",
    "    2. **Example:** Predicting a machine breakdown using sensor data trends.\n",
    "\n",
    "4. **Improving Efficiency**\n",
    "    1. Optimize operations by predicting demands or resource needs.\n",
    "    2. **Example:** Adjusting staffing levels based on forecasted customer footfall."
   ]
  },
  {
   "cell_type": "code",
   "execution_count": 1,
   "metadata": {},
   "outputs": [],
   "source": [
    "import pandas as pd"
   ]
  },
  {
   "cell_type": "code",
   "execution_count": 3,
   "metadata": {},
   "outputs": [],
   "source": [
    "dataset = pd.read_csv(\"Dataset/Netflix-Subscriptions.csv\")"
   ]
  },
  {
   "cell_type": "code",
   "execution_count": 4,
   "metadata": {},
   "outputs": [
    {
     "data": {
      "text/html": [
       "<div>\n",
       "<style scoped>\n",
       "    .dataframe tbody tr th:only-of-type {\n",
       "        vertical-align: middle;\n",
       "    }\n",
       "\n",
       "    .dataframe tbody tr th {\n",
       "        vertical-align: top;\n",
       "    }\n",
       "\n",
       "    .dataframe thead th {\n",
       "        text-align: right;\n",
       "    }\n",
       "</style>\n",
       "<table border=\"1\" class=\"dataframe\">\n",
       "  <thead>\n",
       "    <tr style=\"text-align: right;\">\n",
       "      <th></th>\n",
       "      <th>Time Period</th>\n",
       "      <th>Subscribers</th>\n",
       "    </tr>\n",
       "  </thead>\n",
       "  <tbody>\n",
       "    <tr>\n",
       "      <th>0</th>\n",
       "      <td>01/04/2013</td>\n",
       "      <td>34240000</td>\n",
       "    </tr>\n",
       "    <tr>\n",
       "      <th>1</th>\n",
       "      <td>01/07/2013</td>\n",
       "      <td>35640000</td>\n",
       "    </tr>\n",
       "    <tr>\n",
       "      <th>2</th>\n",
       "      <td>01/10/2013</td>\n",
       "      <td>38010000</td>\n",
       "    </tr>\n",
       "    <tr>\n",
       "      <th>3</th>\n",
       "      <td>01/01/2014</td>\n",
       "      <td>41430000</td>\n",
       "    </tr>\n",
       "    <tr>\n",
       "      <th>4</th>\n",
       "      <td>01/04/2014</td>\n",
       "      <td>46130000</td>\n",
       "    </tr>\n",
       "  </tbody>\n",
       "</table>\n",
       "</div>"
      ],
      "text/plain": [
       "  Time Period  Subscribers\n",
       "0  01/04/2013     34240000\n",
       "1  01/07/2013     35640000\n",
       "2  01/10/2013     38010000\n",
       "3  01/01/2014     41430000\n",
       "4  01/04/2014     46130000"
      ]
     },
     "execution_count": 4,
     "metadata": {},
     "output_type": "execute_result"
    }
   ],
   "source": [
    "dataset.head()"
   ]
  },
  {
   "cell_type": "code",
   "execution_count": 5,
   "metadata": {},
   "outputs": [],
   "source": [
    "# Converting 'Time Period' to datetime\n",
    "dataset['Time Period'] = pd.to_datetime(dataset['Time Period'])"
   ]
  },
  {
   "cell_type": "code",
   "execution_count": 6,
   "metadata": {},
   "outputs": [],
   "source": [
    "# Set the 'Time Period' as the index\n",
    "dataset.set_index('Time Period', inplace=True)"
   ]
  },
  {
   "cell_type": "code",
   "execution_count": 7,
   "metadata": {},
   "outputs": [
    {
     "data": {
      "text/html": [
       "<div>\n",
       "<style scoped>\n",
       "    .dataframe tbody tr th:only-of-type {\n",
       "        vertical-align: middle;\n",
       "    }\n",
       "\n",
       "    .dataframe tbody tr th {\n",
       "        vertical-align: top;\n",
       "    }\n",
       "\n",
       "    .dataframe thead th {\n",
       "        text-align: right;\n",
       "    }\n",
       "</style>\n",
       "<table border=\"1\" class=\"dataframe\">\n",
       "  <thead>\n",
       "    <tr style=\"text-align: right;\">\n",
       "      <th></th>\n",
       "      <th>Subscribers</th>\n",
       "    </tr>\n",
       "    <tr>\n",
       "      <th>Time Period</th>\n",
       "      <th></th>\n",
       "    </tr>\n",
       "  </thead>\n",
       "  <tbody>\n",
       "    <tr>\n",
       "      <th>2013-01-04</th>\n",
       "      <td>34240000</td>\n",
       "    </tr>\n",
       "    <tr>\n",
       "      <th>2013-01-07</th>\n",
       "      <td>35640000</td>\n",
       "    </tr>\n",
       "    <tr>\n",
       "      <th>2013-01-10</th>\n",
       "      <td>38010000</td>\n",
       "    </tr>\n",
       "    <tr>\n",
       "      <th>2014-01-01</th>\n",
       "      <td>41430000</td>\n",
       "    </tr>\n",
       "    <tr>\n",
       "      <th>2014-01-04</th>\n",
       "      <td>46130000</td>\n",
       "    </tr>\n",
       "  </tbody>\n",
       "</table>\n",
       "</div>"
      ],
      "text/plain": [
       "             Subscribers\n",
       "Time Period             \n",
       "2013-01-04      34240000\n",
       "2013-01-07      35640000\n",
       "2013-01-10      38010000\n",
       "2014-01-01      41430000\n",
       "2014-01-04      46130000"
      ]
     },
     "execution_count": 7,
     "metadata": {},
     "output_type": "execute_result"
    }
   ],
   "source": [
    "dataset.head()"
   ]
  },
  {
   "cell_type": "markdown",
   "metadata": {},
   "source": [
    "### Time Series Decomposition"
   ]
  },
  {
   "cell_type": "markdown",
   "metadata": {},
   "source": [
    "Time Series Decomposition is a technique that breaks down a time series into **distinct components** to better understand its structure. \n",
    "\n",
    "1. **Trend (T):**\n",
    "    1. The long-term direction in the data.\n",
    "    2. **Example:** A steady increase in sales over years.\n",
    "\n",
    "2. **Seasonality (S):**\n",
    "    1. Regular, repeating patterns occurring at fixed intervals (e.g. daily, monthly, yearly)\n",
    "    2. **Example:** Ice cream sales peaking every summer.\n",
    "\n",
    "3. **Residual or Noise (R):**\n",
    "    1. The random, unpredictable variations that cannot be explained by trend or seasonality.\n",
    "    2. **Example:** Sudden sales spikes due to unexpected events.\n",
    "\n",
    "Sometimes, **an optional cyclical component** is also considered:\n",
    "    1. **Cycliality:** Long-term fluctuations that don't have a fixed period but occur due to economic or external factors.\n",
    "    2. **Example:** Economic booms and recessions.\n",
    "\n",
    "Decomposition assumes the time series follows one of these models:\n",
    "1. **Additive Model:** \n",
    "2. $Y_i = T_i + S_t + R_t$ Used when the variations in seasonality and noise are **constant** in magnitude.\n",
    "\n",
    "2. **Multiplicative Model:**\n",
    "2. $Y_t = T_t * S_t * R_t$ Used when the variations in seasonality and noise **increase** or **decrease** with the trend.\n",
    "\n",
    "### What does decomposition solve?\n",
    "1. **Understand Patterns:**\n",
    "    1. It helps identify the underlying trend, seasonal effects, and random noise separetly.\n",
    "    2. **Example:** A retailer can isolate the effect of Black Friday sales from long-term growth trends.\n",
    "\n",
    "2. **Prepares data for modelling:**\n",
    "    1. By removing seasonality and trends, decomposition helps create a stationary time series, which is essential for many forecasting models.\n",
    "\n",
    "3. **Improves forecasting accuarcy:**\n",
    "    1. Isolating components like seasonality and trends allows for more precise predictions.\n",
    "\n",
    "4. **Anomaly Detection:**\n",
    "    1. Once the trend and seasonality are modeled, deviations (residuals) can highlight anomalies or unexpected events.\n",
    "\n",
    "### Why should decomposition be used?\n",
    "1. **Simplifying complex data:** Breaking down the series into components makes it easier to interpret.\n",
    "2. **Identifying key influences:** Pinpointing trends or seasonal patterns help businesses make informed decisions.\n",
    "3. **Refining forecasting models:** Models that separately handle trends and seasonality often outperform those that don't.\n",
    "3. **Preparing for advanced techniques:** Many times series methods (e.g. ARIMA) require stationary data, which decomposition helps achieve.\n",
    "\n",
    "### When should decomposition be used?\n",
    "1. **When the series shows seasonality:** If the data exhibits repeating patterns (monthly sales.)\n",
    "2. **For data exploration**\n",
    "3. **Before Forecasting:** To remove trend and seasonality, enabling better predictions.\n",
    "4. **To identify anomalies**\n",
    "5. **To preprocess data**"
   ]
  },
  {
   "cell_type": "code",
   "execution_count": null,
   "metadata": {},
   "outputs": [
    {
     "data": {
      "image/png": "[encoded data removed]",
      "text/plain": [
       "<Figure size 640x480 with 4 Axes>"
      ]
     },
     "metadata": {},
     "output_type": "display_data"
    }
   ],
   "source": [
    "import statsmodels.api as sm\n",
    "import matplotlib.pyplot as plt\n",
    "\n",
    "# decomposing the TS\n",
    "decomposition = sm.tsa.seasonal_decompose(dataset['Subscribers'], model='additive', period=4)\n",
    "decomposition.plot()\n",
    "plt.show()\n",
    "\n",
    "\"\"\"\n",
    "sm.tsa.seasonal_decompose: A function in the statsmodels library that decomposes the time series into components.\n",
    "\n",
    "model='additive': Specifies the decomposition model as additive. This means the time series is assumed to follow, Y(t) = T(t) + S(t) + R(t)\n",
    "\n",
    "period=4: Indicates the seasonal period (number of observations per cycle).\n",
    "\n",
    "The code breaks down the time series into:\n",
    "    \n",
    "    Trend(T{t}): Long-term changes in the data.\n",
    "\n",
    "    Seasonality (S{t}): Repeating patterns over the specified period.\n",
    "\n",
    "    Residual (R{t}): Random noise or unexplained variations.\n",
    "\"\"\""
   ]
  },
  {
   "cell_type": "markdown",
   "metadata": {},
   "source": [
    "### Moving averages and Smoothing in Time Series\n",
    "1. **Moving Averages (MA):**\n",
    "    * A simple technique that smooths time series data by averaging a fixed number of consecutive observations. This \"moving\" operation reduces noise and helps reveal the underlying trend.\n",
    "\n",
    "2. **Smoothing:**\n",
    "    * A broader concept that includes techniques (like moving averages, exponential smoothing, etc.) to reduce randomness in the data, making patterns (like trends or seasonality) more visible.\n",
    "\n",
    "Both methods are used to highlight long-term trends while minimizing short-term fluctuations or irregularities.\n",
    "\n",
    "#### What does Moving Average solve?\n",
    "1. **Denoising:** \n",
    "    * Reduces noise to identify the central tendency of the data.   \n",
    "    **Example:** A retailer analyzing daily sales might smooth data to identify an upward sales trend.\n",
    "\n",
    "2. **Trend Detection:**\n",
    "    * Extracts the trend in the time series by eliminating erratic behavior caused by outliers or random variations.\n",
    "\n",
    "3. **Forecasting:**\n",
    "    * Predicts the next value(s) by averaging recent observations (common in statistical models like ARIMA).\n",
    "\n",
    "#### Types of Moving Averages:\n",
    "1. **Simple Moving Average (SMA):** The unweighted mean of the last k observations.  \n",
    "$$SMA_t = \\frac{1}{k} \\sum_{i=0}^{k=1} Y_{t-i}$$\n",
    "**Example:** A 3-day SMA for sales: $$SMA_t = \\frac{1}{3} (Sales_t + Sales_{t - 1} + Sales_{t - 2})$$\n",
    "\n",
    "2. **Weighted Moving Average (WMA):** Assigns weights to observations, with more recent values typically given higher weights.\n",
    "\n",
    "3. **Exponential Moving Average (EMA):** Applies exponential weights to observations, focusing more on recent data points. $$EMA_t = \\alpha Y_t + (1 - \\alpha) EMA_{t - 1}$$\n",
    "$\\alpha$ Smoothing factor ($0 < \\alpha < 1$).\n",
    "\n",
    "#### Why use Smoothing in ML?\n",
    "1. **Data Preparation:**\n",
    "    * Smoothing helps remove noise, making patterns more apparent for ML models (like LSTMs or Random Forests).\n",
    "\n",
    "2. **Feature Engineering:**\n",
    "    * Smoothed data can be used as an additional feature to capture trends.\n",
    "\n",
    "3. **Regularization:**\n",
    "    * It helps avoid overfitting by reducing data complexity before model training.\n",
    "\n",
    "#### Exponential Smoothing Techniques (Holt-Winters):\n",
    "1. **Single Exponential Smoothing:** Assumes no trend or seasonality.\n",
    "2. **Double Exponential Smoothing:** Captures trends.\n",
    "3. **Triple Exponential Smoothing:** (Holt-Winters): Captures trends and seasonality.\n",
    "\n",
    "#### Why Use Moving Averages?\n",
    "1. **Noise Reduction:** Essential when data contains high variability.\n",
    "2. **Pattern Recognition:** Helps reveal trends and seasonality.\n",
    "3. **Simplification:** Makes complex data more interpretable.\n",
    "4. **Forecasting Models:** Acts as a baseline technique or preprocessing for statistical/ML forecasting.\n",
    "\n",
    "#### When to Use Moving Averages?\n",
    "1. **Exploratory Data Analysis (EDA):** To understand trends before building models.\n",
    "2. **Time Series Forecasting:** As a benchmark or preprocessing step.\n",
    "3. **Anomaly Detection:** Smooth data to highlight deviations.\n",
    "4. **Short-Term Forecasting:** When you need quick, interpretable predictions."
   ]
  },
  {
   "cell_type": "markdown",
   "metadata": {},
   "source": []
  }
 ],
 "metadata": {
  "kernelspec": {
   "display_name": "Python 3",
   "language": "python",
   "name": "python3"
  },
  "language_info": {
   "codemirror_mode": {
    "name": "ipython",
    "version": 3
   },
   "file_extension": ".py",
   "mimetype": "text/x-python",
   "name": "python",
   "nbconvert_exporter": "python",
   "pygments_lexer": "ipython3",
   "version": "3.12.2"
  }
 },
 "nbformat": 4,
 "nbformat_minor": 2
}
